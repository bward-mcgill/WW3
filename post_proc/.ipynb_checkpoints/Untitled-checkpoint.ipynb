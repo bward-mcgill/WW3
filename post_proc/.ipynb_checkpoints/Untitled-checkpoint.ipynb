{
 "cells": [
  {
   "cell_type": "markdown",
   "id": "545fcc39",
   "metadata": {},
   "source": [
    "# Import librairies"
   ]
  },
  {
   "cell_type": "code",
   "execution_count": 1,
   "id": "4166af24",
   "metadata": {},
   "outputs": [],
   "source": [
    "import pandas as pd\n",
    "import numpy as np\n",
    "import matplotlib\n",
    "import matplotlib.pyplot as plt\n",
    "import matplotlib.colors as mcolors\n",
    "import matplotlib.dates as mdates\n",
    "from datetime import datetime, timedelta\n",
    "import matplotlib.animation as animation\n",
    "\n",
    "def cleanGrdFiles_ww3(nparray_var2d, nparray_rst, def_v, convFac_ww3):\n",
    "    listBadRow=[]\n",
    "    listBadCol=[]\n",
    "    for col_i in range(len(nparray_var2d[0])):\n",
    "        col=nparray_var2d[:,col_i]\n",
    "        if (np.count_nonzero(col == def_v) == len(col)):\n",
    "            listBadCol.append(col_i)\n",
    "    for row_i in range(len(nparray_var2d[:,0])):\n",
    "        row=nparray_var2d[row_i]\n",
    "        if (np.count_nonzero(row == def_v) == len(row)):\n",
    "            listBadRow.append(row_i)\n",
    "            \n",
    "    nparray_var2d[listBadRow]=nparray_rst[listBadRow]/convFac_ww3\n",
    "    nparray_var2d[:,listBadCol]=nparray_rst[:,listBadCol]/convFac_ww3\n",
    "    \n",
    "    return nparray_var2d\n"
   ]
  },
  {
   "cell_type": "markdown",
   "id": "8ea2af47",
   "metadata": {},
   "source": [
    "# Declare variables "
   ]
  },
  {
   "cell_type": "code",
   "execution_count": 2,
   "id": "d136b86e",
   "metadata": {},
   "outputs": [],
   "source": [
    "exp=\"t1\"\n",
    "list_var=['ice', 'ic1', 'ic5'] #,'ic1','ic5'] #Ice concentration, Ice thickness, Mean floe size diameter\n",
    "grdRes=0.03\n",
    "grdMax=3\n",
    "grdMin=0\n",
    "defValue=-999\n",
    "txt2ww3=0.001\n",
    "xgrid=np.arange(grdMin, grdMax, grdRes)\n",
    "ygrid=np.arange(grdMin, grdMax, grdRes)\n",
    "\n",
    "X,Y = np.meshgrid(xgrid,ygrid)\n",
    "\n",
    "orig_map=plt.cm.get_cmap('Spectral')\n",
    "reversed_map = orig_map.reversed()\n",
    "cbar_min=0\n",
    "cbar_max=300\n",
    "cbarlabels = np.linspace(np.floor(cbar_min), np.ceil(cbar_max), num=5, endpoint=True)"
   ]
  },
  {
   "cell_type": "markdown",
   "id": "19dfda6c",
   "metadata": {},
   "source": [
    "# Initial conditions"
   ]
  },
  {
   "cell_type": "code",
   "execution_count": 3,
   "id": "bb8b4c51",
   "metadata": {},
   "outputs": [
    {
     "data": {
      "image/png": "[encoded data removed]",
      "text/plain": [
       "<Figure size 576x864 with 6 Axes>"
      ]
     },
     "metadata": {
      "needs_background": "light"
     },
     "output_type": "display_data"
    }
   ],
   "source": [
    "#old stuff\n",
    "\n",
    "REP_INP='/aos/home/bward/WW3/model/inp/'+exp\n",
    "\n",
    "fig, ax = plt.subplots(3,1,figsize=[8,12])\n",
    "i=0\n",
    "for var in list_var:\n",
    "    file_ini = REP_INP+\"/\"+var+\"_\"+exp+\".txt\"\n",
    "    var_2d=np.genfromtxt(file_ini, dtype=None)\n",
    "        \n",
    "    ax[i].set_xlim([0, 2.5])\n",
    "    ax[i].set_ylim([0, 2.5])\n",
    "    pc=ax[i].contourf(X,Y,var_2d, cmap=reversed_map)\n",
    "\n",
    "    cb=fig.colorbar(pc, ax=ax[i])\n",
    "    i=i+1"
   ]
  },
  {
   "cell_type": "markdown",
   "id": "b0b52b8d",
   "metadata": {},
   "source": [
    "# Wave propagation"
   ]
  },
  {
   "cell_type": "code",
   "execution_count": null,
   "id": "484af7e5",
   "metadata": {
    "scrolled": false
   },
   "outputs": [
    {
     "name": "stderr",
     "output_type": "stream",
     "text": [
      "/tmp/ipykernel_50712/865651093.py:47: MatplotlibDeprecationWarning: savefig() got unexpected keyword argument \"bbbox_to_anchor\" which is no longer supported as of 3.3 and will become an error two minor releases later\n",
      "  fig.savefig(REP_PP+'/'+ts+'_'+exp, bbbox_to_anchor='tight', dpi=500)\n"
     ]
    }
   ],
   "source": [
    "REP_OUT='/aos/home/bward/WW3/model/out/'+exp\n",
    "REP_PP='/aos/home/bward/WW3/post_proc/'+exp\n",
    "\n",
    "REP_OUT_GRD=REP_OUT+\"/grd\"\n",
    "list_ts=[\"10060600\"] #, \"10060601\", \"10060602\", \"10060603\", \"10060604\", \"10060605\", \"10060606\"]\n",
    "\n",
    "def plot_waveIce(ts):\n",
    "    i=0\n",
    "    file_hs=REP_OUT_GRD+\"/ww3.\"+ts+\".hs\"\n",
    "    hs_2d=np.genfromtxt(file_hs, dtype=None, skip_header=1)\n",
    "    hs_rst=np.zeros((len(xgrid), len(ygrid)))\n",
    "    var_2d=cleanGrdFiles_ww3(hs_2d, hs_rst, defValue, txt2ww3)\n",
    "    for var in list_var:\n",
    "        file_rst=REP_INP+\"/\"+var+\"_\"+exp+\".txt\"\n",
    "        var_rst=np.genfromtxt(file_rst, dtype=None)\n",
    "        file_var = REP_OUT_GRD+\"/ww3.\"+ts+\".\"+var\n",
    "        var_2d=np.genfromtxt(file_var, dtype=None, skip_header=1)\n",
    "        var_2d=cleanGrdFiles_ww3(var_2d, var_rst, defValue, txt2ww3)\n",
    "        ax[i].set_xlim([0, 3])\n",
    "        ax[i].set_ylim([0.5, 2.5])\n",
    "        ax[i].set_yticks(np.arange(0.5, 3, 0.5))\n",
    "        ax[i].set_xlabel('Longitude (^o)')\n",
    "        ax[i].set_ylabel('Latitude (^o)')\n",
    "        cont=ax[i].contour(X,Y, hs_2d*txt2ww3, colors='black', levels=[0.01, 0.02, 0.04, 0.06, 0.1, 0.14, 0.2])\n",
    "        color=ax[i].contourf(X,Y,var_2d*txt2ww3, 50, cmap=reversed_map)\n",
    "        ax[i].clabel(cont)\n",
    "        cb=fig.colorbar(color, ax=ax[i])\n",
    "        \n",
    "        if i == 0:\n",
    "            cb.set_label('Ice Concentration')\n",
    "        if i == 1:\n",
    "            cb.set_label('Ice Thickess [m]')\n",
    "        if i == 2:\n",
    "            cb.set_label('Mean Floe Diameter [m]')\n",
    "            \n",
    "        i=i+1\n",
    "    return ax\n",
    "\n",
    "#fig, ax = plt.subplots(3,1,figsize=[8,12])\n",
    "#ani=animation.FuncAnimation(fig, plot_waveIce, list_ts)\n",
    "\n",
    "for ts in list_ts:\n",
    "    fig, ax = plt.subplots(3,1,figsize=[8,12])\n",
    "    ax=plot_waveIce(ts)\n",
    "    plt.tight_layout()\n",
    "    plt.subplots_adjust(top=0.97)\n",
    "    fig.savefig(REP_PP+'/'+ts+'_'+exp, bbbox_to_anchor='tight', dpi=500)"
   ]
  },
  {
   "cell_type": "markdown",
   "id": "2f54b4c8",
   "metadata": {},
   "source": [
    "# Create animation"
   ]
  },
  {
   "cell_type": "code",
   "execution_count": 5,
   "id": "23cb76ea",
   "metadata": {},
   "outputs": [],
   "source": [
    "from PIL import Image\n",
    "import glob\n",
    " \n",
    "# Create the frames\n",
    "frames = []\n",
    "list_imgs = glob.glob(REP_PP+'/*.png')\n",
    "list.sort(list_imgs)\n",
    "for i in list_imgs:\n",
    "    new_frame = Image.open(i)\n",
    "    frames.append(new_frame)\n",
    " \n",
    "# Save into a GIF file that loops forever\n",
    "frames[0].save(REP_PP+'/'+list_ts[0]+\"_\"+list_ts[len(list_ts)-1]+\"_\"+exp+'.gif', format='GIF',\n",
    "               append_images=frames[1:],\n",
    "               save_all=True,\n",
    "               duration=3000, loop=0)"
   ]
  },
  {
   "cell_type": "code",
   "execution_count": null,
   "id": "53cec295",
   "metadata": {},
   "outputs": [],
   "source": []
  }
 ],
 "metadata": {
  "kernelspec": {
   "display_name": "Python 3 (ipykernel)",
   "language": "python",
   "name": "python3"
  },
  "language_info": {
   "codemirror_mode": {
    "name": "ipython",
    "version": 3
   },
   "file_extension": ".py",
   "mimetype": "text/x-python",
   "name": "python",
   "nbconvert_exporter": "python",
   "pygments_lexer": "ipython3",
   "version": "3.8.12"
  }
 },
 "nbformat": 4,
 "nbformat_minor": 5
}
